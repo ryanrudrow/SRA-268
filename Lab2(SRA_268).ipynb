{
  "nbformat": 4,
  "nbformat_minor": 0,
  "metadata": {
    "colab": {
      "name": "Lab2(SRA 268).ipynb",
      "provenance": [],
      "include_colab_link": true
    },
    "kernelspec": {
      "name": "python3",
      "display_name": "Python 3"
    }
  },
  "cells": [
    {
      "cell_type": "markdown",
      "metadata": {
        "id": "view-in-github",
        "colab_type": "text"
      },
      "source": [
        "<a href=\"https://colab.research.google.com/github/ryanrudrow/SRA-268/blob/master/Lab2(SRA_268).ipynb\" target=\"_parent\"><img src=\"https://colab.research.google.com/assets/colab-badge.svg\" alt=\"Open In Colab\"/></a>"
      ]
    },
    {
      "cell_type": "markdown",
      "metadata": {
        "id": "6sOc4Uyr4U-Z",
        "colab_type": "text"
      },
      "source": [
        "## Graph Types"
      ]
    },
    {
      "cell_type": "markdown",
      "metadata": {
        "id": "0zZdVLAd5CYr",
        "colab_type": "text"
      },
      "source": [
        "Creator\n",
        "* Ryan Rudrow"
      ]
    },
    {
      "cell_type": "markdown",
      "metadata": {
        "id": "g-r6Clq45Hn4",
        "colab_type": "text"
      },
      "source": [
        "### Deviation\n"
      ]
    },
    {
      "cell_type": "markdown",
      "metadata": {
        "id": "2gorxo6E7A0t",
        "colab_type": "text"
      },
      "source": [
        "![alt text](https://raw.githubusercontent.com/ryanrudrow/SRA-268/master/Labs/images/Deviation.png)"
      ]
    },
    {
      "cell_type": "markdown",
      "metadata": {
        "id": "w6bZ_NEi7E3w",
        "colab_type": "text"
      },
      "source": [
        "#### What is this telling us?"
      ]
    },
    {
      "cell_type": "markdown",
      "metadata": {
        "id": "95L-spaC7QHF",
        "colab_type": "text"
      },
      "source": [
        "This graph is devoted to showing the specific deviations of the data set. Deviation graphs are meant to showcase the positive and negative values using a fixed point for comparison. For this graph I chose game date (by the year) and winning points(sum) to see which years had the highest amount of winning points. This graph shows us a fixed point around zero, I got the graph to show this by subtracting 4938 from the axis so that the average is at zero, and you can clearly see which years were above and below this point and by how much."
      ]
    },
    {
      "cell_type": "markdown",
      "metadata": {
        "id": "YgXyXjmz7cDP",
        "colab_type": "text"
      },
      "source": [
        "### Correlation\n"
      ]
    },
    {
      "cell_type": "markdown",
      "metadata": {
        "id": "SGx15rZq7hvt",
        "colab_type": "text"
      },
      "source": [
        "![alt text](https://raw.githubusercontent.com/ryanrudrow/SRA-268/master/Labs/images/correlation.png)"
      ]
    },
    {
      "cell_type": "markdown",
      "metadata": {
        "id": "dljjONNi7jmj",
        "colab_type": "text"
      },
      "source": [
        "#### What is this telling us?"
      ]
    },
    {
      "cell_type": "markdown",
      "metadata": {
        "id": "PwZEZrFB7laG",
        "colab_type": "text"
      },
      "source": [
        "This graph is devoted to showing the correlation, or the relationship between two continuous variables, I used a scatterplot to show this. For this graph I chose to show case the winning points and the academic year to show the trend in winning points over time. From this graph we can clearly see how the winning points change over each year, weather they increase or decrease. The spaces in between the points show which way the data is moving from year to year, specifically from 1984 to 1986 there was a large increase in the number of winning points, this can be seen by the large slope in between the points."
      ]
    },
    {
      "cell_type": "markdown",
      "metadata": {
        "id": "MqUdI-uL7r2s",
        "colab_type": "text"
      },
      "source": [
        "### Ranking\n"
      ]
    },
    {
      "cell_type": "markdown",
      "metadata": {
        "id": "AvlxCOVt7x9F",
        "colab_type": "text"
      },
      "source": [
        "![alt text](https://raw.githubusercontent.com/ryanrudrow/SRA-268/master/Labs/images/ranking.png)"
      ]
    },
    {
      "cell_type": "markdown",
      "metadata": {
        "id": "lCAYtfza7yTq",
        "colab_type": "text"
      },
      "source": [
        "#### What is this telling us?"
      ]
    },
    {
      "cell_type": "markdown",
      "metadata": {
        "id": "MyuciD277ygU",
        "colab_type": "text"
      },
      "source": [
        "This graph is devoted to ranking which highlights the positioning of that data relative to one another. For this graph I chose to use the winning points(sum) and the winning team names in order to see which teams have scored the most winning points in this data set. You can see from the data easily which teams have scored the most winning points and the least winning points, also to make this comparison even easier I sorted the winning names in descending order by winning points showing the teams with the most winning points on the top and the least winning points on the bottom. "
      ]
    },
    {
      "cell_type": "markdown",
      "metadata": {
        "id": "dGDGl8-G7y8Y",
        "colab_type": "text"
      },
      "source": [
        "### Distribution\n"
      ]
    },
    {
      "cell_type": "markdown",
      "metadata": {
        "id": "FB0uV-jy76p9",
        "colab_type": "text"
      },
      "source": [
        "![alt text](https://raw.githubusercontent.com/ryanrudrow/SRA-268/master/Labs/images/distribution.png)"
      ]
    },
    {
      "cell_type": "markdown",
      "metadata": {
        "id": "_6SOzhrQ76zH",
        "colab_type": "text"
      },
      "source": [
        "#### What is this telling us?"
      ]
    },
    {
      "cell_type": "markdown",
      "metadata": {
        "id": "HBWqsS_g767h",
        "colab_type": "text"
      },
      "source": [
        "This graph is showing a distribution and it is meant to highlight the values of the data set, show how often they occur and showing the skewness of the data. I chose to use multiple boxplots by year/season and in terms of losing points losing points. Boxplots are easy to make sense of therefore good for displaying data, the top of the boxplot show the maximum data point for that particular season, the bottom point shows the minimum and the box show 50 percent of the data with the line in the box representing the median. From these graphs we learn what the spread of losing points looks like for the years that I selected."
      ]
    },
    {
      "cell_type": "markdown",
      "metadata": {
        "id": "wQsDThk677Fy",
        "colab_type": "text"
      },
      "source": [
        "### Change over Time\n"
      ]
    },
    {
      "cell_type": "markdown",
      "metadata": {
        "id": "Z1j_YLOA7_OK",
        "colab_type": "text"
      },
      "source": [
        "![alt text](https://raw.githubusercontent.com/ryanrudrow/SRA-268/master/Labs/images/change%20over%20time.png)"
      ]
    },
    {
      "cell_type": "markdown",
      "metadata": {
        "id": "mpfsmmgi7_Vj",
        "colab_type": "text"
      },
      "source": [
        "#### What is this telling us?"
      ]
    },
    {
      "cell_type": "markdown",
      "metadata": {
        "id": "rYLXoMMO7_di",
        "colab_type": "text"
      },
      "source": [
        "This graph is dedicated to change over time and I showed this by choosing a line graph with year of game date and the sum of winning points to show the change of winning points over time. This graph is easy to make sense of due to the continuous line that connects the data points to show how the winning points total changed over time and what those specific values were. From this graph we learned that the sum of winning points in 1985 was the lowest data point in the data set and the sum of winning points in 1989 was the highest point in this data."
      ]
    },
    {
      "cell_type": "markdown",
      "metadata": {
        "id": "lFwiHoE-7_jZ",
        "colab_type": "text"
      },
      "source": [
        "### Magnitude\n"
      ]
    },
    {
      "cell_type": "markdown",
      "metadata": {
        "id": "ICQFnXj78EbF",
        "colab_type": "text"
      },
      "source": [
        "![alt text](https://raw.githubusercontent.com/ryanrudrow/SRA-268/master/Labs/images/Magnitude.png)"
      ]
    },
    {
      "cell_type": "markdown",
      "metadata": {
        "id": "QGG7XYG88Eii",
        "colab_type": "text"
      },
      "source": [
        "#### What is this telling us?"
      ]
    },
    {
      "cell_type": "markdown",
      "metadata": {
        "id": "VS7uGa0l8Eos",
        "colab_type": "text"
      },
      "source": [
        "This graph is dedicated to showing the magnitude of this sample of data (the data is usually binned), I did this by using a column graph. For the graph I decided to use the number of the winning seed (binned) and the magnitude of the winning seed. This graph is an easy way to compare the size/ magnitude of the winning seed data from our dataset. The sums are right next to each other for easy comparison. The graph is easy to read and comprehend due to the size of the columns, from this data we learn that winning seed data that is binned at 10 is the greatest data in the set and the lowest binned sum of the data set is the data for the winning seed binned at 15."
      ]
    },
    {
      "cell_type": "markdown",
      "metadata": {
        "id": "bEKFxP8R8Evk",
        "colab_type": "text"
      },
      "source": [
        "### Part-to-Whole\n"
      ]
    },
    {
      "cell_type": "markdown",
      "metadata": {
        "id": "WFHlcYKV8E35",
        "colab_type": "text"
      },
      "source": [
        "![alt text](https://raw.githubusercontent.com/ryanrudrow/SRA-268/master/Labs/images/part-to-whole.png)"
      ]
    },
    {
      "cell_type": "markdown",
      "metadata": {
        "id": "PNSd3wlp8UZH",
        "colab_type": "text"
      },
      "source": [
        "#### What is this telling us?"
      ]
    },
    {
      "cell_type": "markdown",
      "metadata": {
        "id": "y9tb_QRA8aqt",
        "colab_type": "text"
      },
      "source": [
        "This graph is dedicated to the part to whole concept, I decided to show it by using a pie chart. For this pie chart I selected the name of the winning mascot and the sum of winning points, I filtered the mascot names so that comprehending the chart would be easier and more effective. I also added labels to this data set with the name of the mascot and the sum of winning points in order to make it easier to learn which mascots have the most winning points in our data set. The size of the parts of the chart and the colors make it obvious which mascot has the most winning points."
      ]
    }
  ]
}