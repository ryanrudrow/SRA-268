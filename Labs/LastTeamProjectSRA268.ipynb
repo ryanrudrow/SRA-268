{
  "nbformat": 4,
  "nbformat_minor": 0,
  "metadata": {
    "colab": {
      "name": "LastTeamProjectSRA268.ipynb",
      "provenance": []
    },
    "kernelspec": {
      "name": "python3",
      "display_name": "Python 3"
    }
  },
  "cells": [
    {
      "cell_type": "markdown",
      "metadata": {
        "id": "Kw5PZBtl0Ob6",
        "colab_type": "text"
      },
      "source": [
        "# Last Team Project"
      ]
    },
    {
      "cell_type": "markdown",
      "metadata": {
        "id": "iXWAmSVB0Rno",
        "colab_type": "text"
      },
      "source": [
        "Contributors:\n",
        "\n",
        "\n",
        "*   Ryan Rudrow\n",
        "*   Judy Rodriguez\n",
        "*   Alex Hoffman\n",
        "\n",
        "\n"
      ]
    },
    {
      "cell_type": "markdown",
      "metadata": {
        "id": "WpaW-i5l0ZHn",
        "colab_type": "text"
      },
      "source": [
        "## Background"
      ]
    },
    {
      "cell_type": "markdown",
      "metadata": {
        "id": "E4VKsOvP0eev",
        "colab_type": "text"
      },
      "source": [
        "The idea for this project is to see how the crime statistics in Pennsylvania compare to those on the national level. As Penn State students, all of us had to relocate to State College for a minimum period of 4 years in order to get our degree, so in many ways, we have had to become familiar with the Pennsylvania region. Looking at the crime statistics for the area in which you are living and comparing it to the national level, is a good way to analyze key trends and abnormalities when it comes to assessing the overall safety and climate of the state. We decided to compare the overall rate for different crimes per 100,000 inhabitants. This way we can accurately compare the frequency of each type of crime for PA compared to the rest of the US. We hope to discover that the rate of crimes in PA are less than or equal to that on the national level. The crime rates being compared will be taken from a two year period, 2015-2016, which is the last period that the FBI’s Uniform Crime Reporting system compiled a comprehensive set of statistics for both the US and PA. The UCR analyzes a variety of crimes including, murder, larceny, motor vehicle theft, robbery, aggravated assault, and many more. After analyzing the data, we hope to create a visualization that will help us to accurately compare the two. "
      ]
    },
    {
      "cell_type": "markdown",
      "metadata": {
        "id": "7d8vfcGufV0_",
        "colab_type": "text"
      },
      "source": [
        "### Goal"
      ]
    },
    {
      "cell_type": "markdown",
      "metadata": {
        "id": "e1jKSGTjfY2H",
        "colab_type": "text"
      },
      "source": [
        "\n",
        "The goal of this project is to compare the crime stastics from PA to the rest of the US from 2015-2016"
      ]
    },
    {
      "cell_type": "markdown",
      "metadata": {
        "id": "GOxy_TvCfi54",
        "colab_type": "text"
      },
      "source": [
        "### Assumptions"
      ]
    },
    {
      "cell_type": "markdown",
      "metadata": {
        "id": "cw1v_1MMfnAR",
        "colab_type": "text"
      },
      "source": [
        "Insert 10 assumptions for your data model:\n",
        "*   PA will be compared to the US in terms of crime rate\n",
        "*   PA will make up an equal part of the crime rate in terms of its population to the US population\n",
        "*   We will join or data from an inner join\n",
        "*   PA will have smaller rates than the US overall\n",
        "*   Our model will show that PA has a substantial amount of crime\n",
        "*   2015 will have less overall crime than 2016\n",
        "*   Property crime will have the highest rates per 100 thousand\n",
        "*   PA will have higher property crime rates on average compared to the US rate\n",
        "*   The burglary rate in PA will be less than the US average\n",
        "*   The US will have a higher agrivated assult rate\n",
        "\n"
      ]
    },
    {
      "cell_type": "markdown",
      "metadata": {
        "id": "jKGILpu7gWr6",
        "colab_type": "text"
      },
      "source": [
        "### Data Sources"
      ]
    },
    {
      "cell_type": "markdown",
      "metadata": {
        "id": "uwCao7AtgbNn",
        "colab_type": "text"
      },
      "source": [
        "Sources:\n",
        "1. https://ucr.fbi.gov/crime-in-the-u.s/2016/crime-in-the-u.s.-2016/topic-pages/tables/table-1\n",
        "\n",
        "2. https://ucr.fbi.gov/crime-in-the-u.s/2016/crime-in-the-u.s.-2016/topic-pages/tables/table-2\n",
        "\n",
        "We selected the sources because they seemed interesting to us and we thought that it would be cool to look at and work with this specific data, it will be especially cool for me because I am going to be taking a few criminology courses next semester. The data is about FBI crime statistics and we got the two tables from the Criminal Justice Information Services on the FBI’s website. Both tables include info about crime statistics that include year, population, violent crime rate, murder and nonnegligent manslaughter rate, rape (revised definition) rate, rape (legacy definition) rate, robbery rate, aggravated assault rate, property crime rate, burglary rate, larceny theft rate, and motor vehicle theft rate. Since they both came from the FBI and had similar topics, we thought that this would make them easier to join together. In order to join the data sets we first edited the tables so that only the rates per one hundred thousand were used and we deleted everything else out in terms of data. We then edited the data to fit in terms of year because this is what we would be joining the data with, the year (2015 and 2016). So, once all of the editing was done, we put them both into tableau and used an inner join via the year in both tables in order to get the two tables to be successfully joined together. The inner join based the connection off of the year and everything else lined up perfectly in terms of row and column headings. \n",
        "\n",
        "NOTE: Just as a reminder on our zoom meeting we combined our two excel sheets into one to fix problems you thought that we might have encountered. \n",
        "\n"
      ]
    },
    {
      "cell_type": "markdown",
      "metadata": {
        "id": "qcFak2v7g3jt",
        "colab_type": "text"
      },
      "source": [
        "## Dashboard (5)"
      ]
    },
    {
      "cell_type": "code",
      "metadata": {
        "id": "knG79vNP0Q0u",
        "colab_type": "code",
        "outputId": "20cd1707-414a-450c-d815-8b7f761ccd3f",
        "colab": {
          "base_uri": "https://localhost:8080/",
          "height": 844
        }
      },
      "source": [
        "import IPython\n",
        "IPython.display.HTML(\"<div class='tableauPlaceholder' id='viz1588086591191' style='position: relative'><noscript><a href='#'><img alt=' ' src='https:&#47;&#47;public.tableau.com&#47;static&#47;images&#47;26&#47;268final&#47;Dashboard1&#47;1_rss.png' style='border: none' /></a></noscript><object class='tableauViz'  style='display:none;'><param name='host_url' value='https%3A%2F%2Fpublic.tableau.com%2F' /> <param name='embed_code_version' value='3' /> <param name='site_root' value='' /><param name='name' value='268final&#47;Dashboard1' /><param name='tabs' value='no' /><param name='toolbar' value='yes' /><param name='static_image' value='https:&#47;&#47;public.tableau.com&#47;static&#47;images&#47;26&#47;268final&#47;Dashboard1&#47;1.png' /> <param name='animate_transition' value='yes' /><param name='display_static_image' value='yes' /><param name='display_spinner' value='yes' /><param name='display_overlay' value='yes' /><param name='display_count' value='yes' /><param name='filter' value='publish=yes' /></object></div>                <script type='text/javascript'>                    var divElement = document.getElementById('viz1588086591191');                    var vizElement = divElement.getElementsByTagName('object')[0];                    if ( divElement.offsetWidth > 800 ) { vizElement.style.width='1000px';vizElement.style.height='827px';} else if ( divElement.offsetWidth > 500 ) { vizElement.style.width='1000px';vizElement.style.height='827px';} else { vizElement.style.width='100%';vizElement.style.height='727px';}                     var scriptElement = document.createElement('script');                    scriptElement.src = 'https://public.tableau.com/javascripts/api/viz_v1.js';                    vizElement.parentNode.insertBefore(scriptElement, vizElement);                </script>\")\n"
      ],
      "execution_count": 0,
      "outputs": [
        {
          "output_type": "execute_result",
          "data": {
            "text/html": [
              "<div class='tableauPlaceholder' id='viz1588086591191' style='position: relative'><noscript><a href='#'><img alt=' ' src='https:&#47;&#47;public.tableau.com&#47;static&#47;images&#47;26&#47;268final&#47;Dashboard1&#47;1_rss.png' style='border: none' /></a></noscript><object class='tableauViz'  style='display:none;'><param name='host_url' value='https%3A%2F%2Fpublic.tableau.com%2F' /> <param name='embed_code_version' value='3' /> <param name='site_root' value='' /><param name='name' value='268final&#47;Dashboard1' /><param name='tabs' value='no' /><param name='toolbar' value='yes' /><param name='static_image' value='https:&#47;&#47;public.tableau.com&#47;static&#47;images&#47;26&#47;268final&#47;Dashboard1&#47;1.png' /> <param name='animate_transition' value='yes' /><param name='display_static_image' value='yes' /><param name='display_spinner' value='yes' /><param name='display_overlay' value='yes' /><param name='display_count' value='yes' /><param name='filter' value='publish=yes' /></object></div>                <script type='text/javascript'>                    var divElement = document.getElementById('viz1588086591191');                    var vizElement = divElement.getElementsByTagName('object')[0];                    if ( divElement.offsetWidth > 800 ) { vizElement.style.width='1000px';vizElement.style.height='827px';} else if ( divElement.offsetWidth > 500 ) { vizElement.style.width='1000px';vizElement.style.height='827px';} else { vizElement.style.width='100%';vizElement.style.height='727px';}                     var scriptElement = document.createElement('script');                    scriptElement.src = 'https://public.tableau.com/javascripts/api/viz_v1.js';                    vizElement.parentNode.insertBefore(scriptElement, vizElement);                </script>"
            ],
            "text/plain": [
              "<IPython.core.display.HTML object>"
            ]
          },
          "metadata": {
            "tags": []
          },
          "execution_count": 1
        }
      ]
    },
    {
      "cell_type": "markdown",
      "metadata": {
        "id": "SvWfnlDjnos1",
        "colab_type": "text"
      },
      "source": [
        "## Conclusion"
      ]
    },
    {
      "cell_type": "markdown",
      "metadata": {
        "id": "rfWefr2gnxOG",
        "colab_type": "text"
      },
      "source": [
        "insert project idea here 500 words (6)\n",
        "\n"
      ]
    },
    {
      "cell_type": "markdown",
      "metadata": {
        "id": "5EJpdak0yNQW",
        "colab_type": "text"
      },
      "source": [
        "The goal of the project was to analyze the crime rates within PA compared to a national level. We first edited the tables so that only the rates per one hundred thousand were used. We also used different colors to differentiate the data and help highlight the comparisons. The crime rates were pulled from a two year statistic info derived from the FBI. Coming into this We assumed PA would similarly compare to most states within the nation as far as most states go. Analyzing the data you can see that the aggravated assault rate for the U.S. in the 2015-2016 timeframe was 487 instances. PA on the other hand was slightly less with 355. Looking at this we know PA is below the average aggravated rate. Next we look at the burglary rate on the national average, which equated to 964 instances. PA had 587 instances which is significantly less than the U.S. average of burglary rates. In the U.S. the average Larceny-theft rate of 3,529 and the rate in PA was 2,772. Again PA was below the national average. The average motor-theft vehicle rate in the U.S. was 459 instances, while in PA is less at 197 instances. The U.S. property crime rate was 4,951 instances, while in PA the property crime rate equated to 3,556 instances. The national rape (legacy definition) rate was 58 instances, while in PA it was 50 instances. The national rape (revised defintion) was 80 instances, while compared to PA having 68 instances. The national robbery rate was 205 instances, while in PA it was 198. The national violent crime rate was 760 instances, while in PA 632 instances. If you look through the data comparisons, you can see PA is consistently below the national average in all categories. The categories that were similar were aggrevated assult, larceny theft rate, murder/ noneggligent manslaughter rate, property crime rate, rape, robbery rate, and violent crime rate. You can see overall PA has smaller rates than the US overall. The goal from this project was to seek comparisons between the U.S. and PA in crime rates. Using a dataset derived from the FBI, we were able to take real life data and see that PA has lower crime rates compared to the national average. We got some of our assumptions right in that PA would have lower crime rates compared to a national average. We as a group wanted to evaluate the overall safety and environment of the State of Pennsylvania, compared to the United States. We originally thought that PA would have some higher rates compared to the national average. We were expecting PA to be higher in aggravated assault, and in property crime. We found that crime rates would rise in 2016, compared to 2015. This increase was very slight however. Overall we learned a lot from analyzing real world data, collected by the FBI. Looking at the state our university is in, we learned it is safer than a portion of states and we now know it is below the national average overall. "
      ]
    }
  ]
}