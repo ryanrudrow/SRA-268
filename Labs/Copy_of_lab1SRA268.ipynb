{
  "nbformat": 4,
  "nbformat_minor": 0,
  "metadata": {
    "colab": {
      "name": "Copy of lab1SRA268.ipynb",
      "provenance": [],
      "toc_visible": true
    },
    "kernelspec": {
      "name": "python3",
      "display_name": "Python 3"
    }
  },
  "cells": [
    {
      "cell_type": "markdown",
      "metadata": {
        "id": "R9g-7Xqd4DQn",
        "colab_type": "text"
      },
      "source": [
        "## Cumulative snowfall in January compared to February in the past 3 years"
      ]
    },
    {
      "cell_type": "markdown",
      "metadata": {
        "id": "7tOhyc_y4Msd",
        "colab_type": "text"
      },
      "source": [
        "### Outline\n",
        "In this project I am going to look at the State College weather table provided and compare the cumulative snowfall in the months of January and February in the past 3 years. I will be looking for any trends in the data, I will be making a graph of the data also."
      ]
    },
    {
      "cell_type": "markdown",
      "metadata": {
        "id": "s7Htf1yh4NRE",
        "colab_type": "text"
      },
      "source": [
        "###the sketch\n",
        "![graph](https://raw.githubusercontent.com/ryanrudrow/SRA-268/master/Labs/images/SRA%20graph.jpeg)"
      ]
    },
    {
      "cell_type": "markdown",
      "metadata": {
        "id": "1Y6ewf1E4NqG",
        "colab_type": "text"
      },
      "source": [
        "###conclusions\n",
        "When I compared snowfall in January and February over the past three years I found a few things. I found that in the month of January snowfall increased as the years progressed, with January '19 having the greatest amount of snow in terms of month and year. February usually had a higher amount of snowfall than January, other than in '19. In terms of cumulative snowfall over all years February (33.1 inches) had a higher amount than January (29 inches)."
      ]
    }
  ]
}